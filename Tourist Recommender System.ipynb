{
 "cells": [
  {
   "cell_type": "code",
   "execution_count": 129,
   "id": "a401109f",
   "metadata": {},
   "outputs": [],
   "source": [
    "import numpy as np\n",
    "import pandas as pd\n",
    "import seaborn as sns\n",
    "import matplotlib as plt\n",
    "%matplotlib inline"
   ]
  },
  {
   "cell_type": "code",
   "execution_count": 130,
   "id": "08224217",
   "metadata": {},
   "outputs": [
    {
     "data": {
      "text/html": [
       "<div>\n",
       "<style scoped>\n",
       "    .dataframe tbody tr th:only-of-type {\n",
       "        vertical-align: middle;\n",
       "    }\n",
       "\n",
       "    .dataframe tbody tr th {\n",
       "        vertical-align: top;\n",
       "    }\n",
       "\n",
       "    .dataframe thead th {\n",
       "        text-align: right;\n",
       "    }\n",
       "</style>\n",
       "<table border=\"1\" class=\"dataframe\">\n",
       "  <thead>\n",
       "    <tr style=\"text-align: right;\">\n",
       "      <th></th>\n",
       "      <th>UserID</th>\n",
       "      <th>Kid</th>\n",
       "      <th>Youth</th>\n",
       "      <th>Adult</th>\n",
       "      <th>Elderly</th>\n",
       "      <th>Gender</th>\n",
       "      <th>EnjoysOutdoors</th>\n",
       "      <th>Haskids</th>\n",
       "      <th>Attraction</th>\n",
       "    </tr>\n",
       "  </thead>\n",
       "  <tbody>\n",
       "    <tr>\n",
       "      <th>0</th>\n",
       "      <td>1</td>\n",
       "      <td>0</td>\n",
       "      <td>1</td>\n",
       "      <td>0</td>\n",
       "      <td>0</td>\n",
       "      <td>1</td>\n",
       "      <td>0</td>\n",
       "      <td>0</td>\n",
       "      <td>Concerts</td>\n",
       "    </tr>\n",
       "    <tr>\n",
       "      <th>1</th>\n",
       "      <td>2</td>\n",
       "      <td>0</td>\n",
       "      <td>0</td>\n",
       "      <td>1</td>\n",
       "      <td>0</td>\n",
       "      <td>0</td>\n",
       "      <td>0</td>\n",
       "      <td>0</td>\n",
       "      <td>Museums</td>\n",
       "    </tr>\n",
       "    <tr>\n",
       "      <th>2</th>\n",
       "      <td>3</td>\n",
       "      <td>0</td>\n",
       "      <td>0</td>\n",
       "      <td>1</td>\n",
       "      <td>0</td>\n",
       "      <td>1</td>\n",
       "      <td>1</td>\n",
       "      <td>0</td>\n",
       "      <td>Trails</td>\n",
       "    </tr>\n",
       "    <tr>\n",
       "      <th>3</th>\n",
       "      <td>4</td>\n",
       "      <td>0</td>\n",
       "      <td>0</td>\n",
       "      <td>0</td>\n",
       "      <td>1</td>\n",
       "      <td>0</td>\n",
       "      <td>1</td>\n",
       "      <td>1</td>\n",
       "      <td>National Parks</td>\n",
       "    </tr>\n",
       "    <tr>\n",
       "      <th>4</th>\n",
       "      <td>5</td>\n",
       "      <td>1</td>\n",
       "      <td>0</td>\n",
       "      <td>0</td>\n",
       "      <td>0</td>\n",
       "      <td>0</td>\n",
       "      <td>1</td>\n",
       "      <td>1</td>\n",
       "      <td>Parks</td>\n",
       "    </tr>\n",
       "  </tbody>\n",
       "</table>\n",
       "</div>"
      ],
      "text/plain": [
       "   UserID  Kid  Youth  Adult  Elderly  Gender  EnjoysOutdoors  Haskids  \\\n",
       "0       1    0      1      0        0       1               0        0   \n",
       "1       2    0      0      1        0       0               0        0   \n",
       "2       3    0      0      1        0       1               1        0   \n",
       "3       4    0      0      0        1       0               1        1   \n",
       "4       5    1      0      0        0       0               1        1   \n",
       "\n",
       "       Attraction  \n",
       "0        Concerts  \n",
       "1         Museums  \n",
       "2          Trails  \n",
       "3  National Parks  \n",
       "4           Parks  "
      ]
     },
     "execution_count": 130,
     "metadata": {},
     "output_type": "execute_result"
    }
   ],
   "source": [
    "df = pd.read_excel('UserData.xlsx')\n",
    "df"
   ]
  },
  {
   "cell_type": "code",
   "execution_count": 131,
   "id": "0b9df09c",
   "metadata": {},
   "outputs": [
    {
     "name": "stdout",
     "output_type": "stream",
     "text": [
      "How old are you? 34\n",
      "Gender: M or F? F\n",
      "Do you like outdoors? 0 or 1 1\n",
      "Do you have kids? 0 or 1 1\n",
      "   UserID  Kid  Youth  Adult  Elderly  Gender  EnjoysOutdoors  HasKids\n",
      "0       6    1      0      1        0       1               1        1\n"
     ]
    }
   ],
   "source": [
    "UserData = {'UserID': [6]}\n",
    "UserData = pd.DataFrame(data=UserData)\n",
    "Age1 = int( input(\"How old are you? \") )\n",
    "if Age1 <= 14:\n",
    "    Kid = [1]\n",
    "    UserData['Kid'] = Kid\n",
    "else:\n",
    "    Kid = [1]\n",
    "    UserData['Kid'] = Kid\n",
    "\n",
    "if Age1 <= 25 and Age1 > 14:\n",
    "    Youth = [1]\n",
    "    UserData['Youth'] = Youth\n",
    "\n",
    "else:\n",
    "    Youth = [0]\n",
    "    UserData['Youth'] = Youth\n",
    "\n",
    "    \n",
    "if Age1 <= 60 and Age1 > 25:\n",
    "    Adult = [1]\n",
    "    UserData['Adult'] = Adult\n",
    "\n",
    "else:\n",
    "    Adult = [0]\n",
    "    UserData['Adult'] = Adult\n",
    "\n",
    "\n",
    "if Age1 >= 60:\n",
    "    Elderly = [1]\n",
    "    UserData['Elderly'] = Elderly\n",
    "\n",
    "else:\n",
    "    Elderly = [0]\n",
    "    UserData['Elderly'] = Elderly\n",
    "\n",
    "\n",
    "Gender1 = input(\"Gender: M or F? \")\n",
    "if Gender1 == 'F':\n",
    "    Gender = [1]\n",
    "    UserData['Gender'] = Gender\n",
    "else: \n",
    "    Gender = [0]\n",
    "    UserData['Gender'] = Gender\n",
    "\n",
    " \n",
    "Outdoors = input(\"Do you like outdoors? 0 or 1 \")\n",
    "if Outdoors == '1':\n",
    "    Outdoors = [1]\n",
    "    UserData['EnjoysOutdoors'] = Outdoors\n",
    "else:\n",
    "    Outdoors = [0]\n",
    "    UserData['EnjoysOutdoors'] = Outdoors\n",
    "\n",
    "Kids1 = input(\"Do you have kids? 0 or 1 \")\n",
    "if Kids1 == '1':\n",
    "    Kids1 = [1]\n",
    "    UserData['HasKids'] = Kids1\n",
    "else:\n",
    "    Kids1 = [0]\n",
    "    UserData['HasKids'] = Kids1\n",
    "\n",
    "print(UserData)"
   ]
  },
  {
   "cell_type": "code",
   "execution_count": 128,
   "id": "586508c6",
   "metadata": {},
   "outputs": [
    {
     "data": {
      "text/html": [
       "<div>\n",
       "<style scoped>\n",
       "    .dataframe tbody tr th:only-of-type {\n",
       "        vertical-align: middle;\n",
       "    }\n",
       "\n",
       "    .dataframe tbody tr th {\n",
       "        vertical-align: top;\n",
       "    }\n",
       "\n",
       "    .dataframe thead th {\n",
       "        text-align: right;\n",
       "    }\n",
       "</style>\n",
       "<table border=\"1\" class=\"dataframe\">\n",
       "  <thead>\n",
       "    <tr style=\"text-align: right;\">\n",
       "      <th></th>\n",
       "      <th>Correlation</th>\n",
       "    </tr>\n",
       "  </thead>\n",
       "  <tbody>\n",
       "    <tr>\n",
       "      <th>0</th>\n",
       "      <td>NaN</td>\n",
       "    </tr>\n",
       "    <tr>\n",
       "      <th>1</th>\n",
       "      <td>NaN</td>\n",
       "    </tr>\n",
       "    <tr>\n",
       "      <th>2</th>\n",
       "      <td>NaN</td>\n",
       "    </tr>\n",
       "    <tr>\n",
       "      <th>3</th>\n",
       "      <td>NaN</td>\n",
       "    </tr>\n",
       "    <tr>\n",
       "      <th>4</th>\n",
       "      <td>NaN</td>\n",
       "    </tr>\n",
       "  </tbody>\n",
       "</table>\n",
       "</div>"
      ],
      "text/plain": [
       "   Correlation\n",
       "0          NaN\n",
       "1          NaN\n",
       "2          NaN\n",
       "3          NaN\n",
       "4          NaN"
      ]
     },
     "execution_count": 128,
     "metadata": {},
     "output_type": "execute_result"
    }
   ],
   "source": [
    "hi = df.corrwith(UserData)\n",
    "hi\n",
    "corrrelation = pd.DataFrame(df,columns=['Correlation'])\n",
    "corrrelation.head()"
   ]
  },
  {
   "cell_type": "code",
   "execution_count": 114,
   "id": "6cc3c0d4",
   "metadata": {},
   "outputs": [
    {
     "name": "stdout",
     "output_type": "stream",
     "text": [
      "   UserID  Kid  Youth  Adult  Elderly  Gender  EnjoysOutdoors  HasKids\n",
      "0       6    1      1      0        0       0               1        0\n"
     ]
    }
   ],
   "source": [
    "print(UserData)"
   ]
  },
  {
   "cell_type": "code",
   "execution_count": null,
   "id": "76250812",
   "metadata": {},
   "outputs": [],
   "source": []
  },
  {
   "cell_type": "code",
   "execution_count": null,
   "id": "7f0ef3b5",
   "metadata": {},
   "outputs": [],
   "source": []
  },
  {
   "cell_type": "code",
   "execution_count": null,
   "id": "859ec5b3",
   "metadata": {},
   "outputs": [],
   "source": []
  },
  {
   "cell_type": "code",
   "execution_count": null,
   "id": "82bd7139",
   "metadata": {},
   "outputs": [],
   "source": []
  },
  {
   "cell_type": "code",
   "execution_count": null,
   "id": "e2049577",
   "metadata": {},
   "outputs": [],
   "source": []
  },
  {
   "cell_type": "code",
   "execution_count": null,
   "id": "11703bc9",
   "metadata": {},
   "outputs": [],
   "source": []
  },
  {
   "cell_type": "code",
   "execution_count": null,
   "id": "36e9c837",
   "metadata": {},
   "outputs": [],
   "source": []
  },
  {
   "cell_type": "code",
   "execution_count": null,
   "id": "aa7a0dac",
   "metadata": {},
   "outputs": [],
   "source": []
  },
  {
   "cell_type": "code",
   "execution_count": null,
   "id": "f4c3c80a",
   "metadata": {},
   "outputs": [],
   "source": []
  },
  {
   "cell_type": "code",
   "execution_count": null,
   "id": "73372e9b",
   "metadata": {},
   "outputs": [],
   "source": []
  },
  {
   "cell_type": "code",
   "execution_count": null,
   "id": "17e177ff",
   "metadata": {},
   "outputs": [],
   "source": []
  },
  {
   "cell_type": "code",
   "execution_count": null,
   "id": "839af8cb",
   "metadata": {},
   "outputs": [],
   "source": []
  }
 ],
 "metadata": {
  "kernelspec": {
   "display_name": "Python 3",
   "language": "python",
   "name": "python3"
  },
  "language_info": {
   "codemirror_mode": {
    "name": "ipython",
    "version": 3
   },
   "file_extension": ".py",
   "mimetype": "text/x-python",
   "name": "python",
   "nbconvert_exporter": "python",
   "pygments_lexer": "ipython3",
   "version": "3.8.8"
  }
 },
 "nbformat": 4,
 "nbformat_minor": 5
}
